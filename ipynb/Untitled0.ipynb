{
 "metadata": {
  "name": "",
  "signature": "sha256:663a42e4079ee8e2187454f38c122247a462cce5de26d5f7d0cd6b9e007f3999"
 },
 "nbformat": 3,
 "nbformat_minor": 0,
 "worksheets": [
  {
   "cells": [
    {
     "cell_type": "code",
     "collapsed": false,
     "input": [
      "from flexbox import psql"
     ],
     "language": "python",
     "metadata": {},
     "outputs": [],
     "prompt_number": 2
    },
    {
     "cell_type": "code",
     "collapsed": false,
     "input": [],
     "language": "python",
     "metadata": {},
     "outputs": []
    }
   ],
   "metadata": {}
  }
 ]
}
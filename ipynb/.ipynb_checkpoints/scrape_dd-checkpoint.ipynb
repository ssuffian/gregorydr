{
 "metadata": {
  "name": "",
  "signature": "sha256:bf4a0fec56ef8885327972cfd879b155ce4562f8029b0cff86480c70d26e7388"
 },
 "nbformat": 3,
 "nbformat_minor": 0,
 "worksheets": []
}
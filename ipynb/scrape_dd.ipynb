{
 "metadata": {
  "name": "",
  "signature": "sha256:3ea9634a4e69a1b12285d96991c8c1374203cee6e8b495f3407b8149296e6742"
 },
 "nbformat": 3,
 "nbformat_minor": 0,
 "worksheets": [
  {
   "cells": [
    {
     "cell_type": "code",
     "collapsed": false,
     "input": [
      "from bs4 import BeautifulSoup\n",
      "import requests\n",
      "import pandas as pd\n",
      "import time"
     ],
     "language": "python",
     "metadata": {},
     "outputs": [],
     "prompt_number": 418
    },
    {
     "cell_type": "code",
     "collapsed": false,
     "input": [
      "df = pd.read_csv('../gregorydrdata_kwh.csv',encoding='ascii',index_col='end_date')"
     ],
     "language": "python",
     "metadata": {},
     "outputs": [],
     "prompt_number": 457
    },
    {
     "cell_type": "code",
     "collapsed": false,
     "input": [
      "#Scrapes DD\n",
      "dates = []\n",
      "for df_row in df.iterrows():\n",
      "    if np.isnan(df_row[1]['hdd65']):\n",
      "        prev_date = df_row[1]['start_date'].split('/')\n",
      "        date = df_row[0].split('/')\n",
      "        url = 'https://www.wunderground.com/history/\\\n",
      "            airport/KDYL/'+prev_date[2]+'/'+prev_date[0]+'/'+prev_date[1]+'/CustomHistory.html?\\\n",
      "            dayend='+date[1]+'&monthend='+date[0]+'&yearend='+date[2]+'\\\n",
      "            &req_city=&req_state=&req_statename=&reqdb.zip=&reqdb.magic=&reqdb.wmo='\n",
      "        r = requests.get(url.replace(' ',''))\n",
      "        soup = BeautifulSoup(r.text)\n",
      "        dd_html_table = soup.find(id='historyTable').find('tbody').findAll('tr')[5:8]\n",
      "        dd_values = []\n",
      "        for dd_html_row in dd_html_table:\n",
      "            dd_values.append(int(dd_html_row.findAll('td')[4].text.encode('ascii','ignore')))\n",
      "        print 'completed for '+str(date)\n",
      "        df.set_value(df_row[0],'hdd65',dd_values[0])\n",
      "        df.set_value(df_row[0],'cdd65',dd_values[1])\n",
      "        df.set_value(df_row[0],'gdd50',dd_values[2])\n",
      "        time.sleep(3)\n",
      "df.to_csv('../gregorydrdata_kwh.csv')"
     ],
     "language": "python",
     "metadata": {},
     "outputs": [
      {
       "output_type": "stream",
       "stream": "stdout",
       "text": [
        "completed for [u'1', u'27', u'2008']\n",
        "completed for [u'2', u'25', u'2008']"
       ]
      },
      {
       "output_type": "stream",
       "stream": "stdout",
       "text": [
        "\n",
        "completed for [u'3', u'24', u'2008']"
       ]
      },
      {
       "output_type": "stream",
       "stream": "stdout",
       "text": [
        "\n",
        "completed for [u'4', u'26', u'2008']"
       ]
      },
      {
       "output_type": "stream",
       "stream": "stdout",
       "text": [
        "\n",
        "completed for [u'5', u'25', u'2008']"
       ]
      },
      {
       "output_type": "stream",
       "stream": "stdout",
       "text": [
        "\n",
        "completed for [u'6', u'25', u'2008']"
       ]
      },
      {
       "output_type": "stream",
       "stream": "stdout",
       "text": [
        "\n",
        "completed for [u'7', u'24', u'2008']"
       ]
      },
      {
       "output_type": "stream",
       "stream": "stdout",
       "text": [
        "\n",
        "completed for [u'8', u'24', u'2008']"
       ]
      },
      {
       "output_type": "stream",
       "stream": "stdout",
       "text": [
        "\n",
        "completed for [u'9', u'23', u'2008']"
       ]
      },
      {
       "output_type": "stream",
       "stream": "stdout",
       "text": [
        "\n",
        "completed for [u'10', u'22', u'2008']"
       ]
      },
      {
       "output_type": "stream",
       "stream": "stdout",
       "text": [
        "\n",
        "completed for [u'12', u'25', u'2008']"
       ]
      },
      {
       "output_type": "stream",
       "stream": "stdout",
       "text": [
        "\n",
        "completed for [u'1', u'27', u'2009']"
       ]
      },
      {
       "output_type": "stream",
       "stream": "stdout",
       "text": [
        "\n",
        "completed for [u'2', u'25', u'2009']"
       ]
      },
      {
       "output_type": "stream",
       "stream": "stdout",
       "text": [
        "\n",
        "completed for [u'3', u'24', u'2009']"
       ]
      },
      {
       "output_type": "stream",
       "stream": "stdout",
       "text": [
        "\n",
        "completed for [u'4', u'26', u'2009']"
       ]
      },
      {
       "output_type": "stream",
       "stream": "stdout",
       "text": [
        "\n",
        "completed for [u'5', u'25', u'2009']"
       ]
      },
      {
       "output_type": "stream",
       "stream": "stdout",
       "text": [
        "\n",
        "completed for [u'6', u'25', u'2009']"
       ]
      },
      {
       "output_type": "stream",
       "stream": "stdout",
       "text": [
        "\n"
       ]
      }
     ],
     "prompt_number": 458
    },
    {
     "cell_type": "code",
     "collapsed": false,
     "input": [
      "df = pd.read_csv('../gregorydrdata_heat.csv',encoding='ascii',index_col='end_date')"
     ],
     "language": "python",
     "metadata": {},
     "outputs": [],
     "prompt_number": 431
    },
    {
     "cell_type": "code",
     "collapsed": false,
     "input": [
      "#Scrapes DD\n",
      "dates = []\n",
      "for df_row in df.iterrows():\n",
      "    if np.isnan(df_row[1]['hdd65']):\n",
      "        prev_date = df_row[1]['start_date'].split('/')\n",
      "        date = df_row[0].split('/')\n",
      "        url = 'https://www.wunderground.com/history/\\\n",
      "            airport/KDYL/'+prev_date[2]+'/'+prev_date[0]+'/'+prev_date[1]+'/CustomHistory.html?\\\n",
      "            dayend='+date[1]+'&monthend='+date[0]+'&yearend='+date[2]+'\\\n",
      "            &req_city=&req_state=&req_statename=&reqdb.zip=&reqdb.magic=&reqdb.wmo='\n",
      "        r = requests.get(url.replace(' ',''))\n",
      "        soup = BeautifulSoup(r.text)\n",
      "        dd_html_table = soup.find(id='historyTable').find('tbody').findAll('tr')[5:8]\n",
      "        dd_values = []\n",
      "        for dd_html_row in dd_html_table:\n",
      "            dd_values.append(int(dd_html_row.findAll('td')[4].text.encode('ascii','ignore')))\n",
      "        print 'completed for '+str(date)\n",
      "        df.set_value(df_row[0],'hdd65',dd_values[0])\n",
      "        df.set_value(df_row[0],'cdd65',dd_values[1])\n",
      "        df.set_value(df_row[0],'gdd50',dd_values[2])\n",
      "        time.sleep(3)\n",
      "df.to_csv('../gregorydrdata_heat.csv')"
     ],
     "language": "python",
     "metadata": {},
     "outputs": [
      {
       "output_type": "stream",
       "stream": "stdout",
       "text": [
        "completed for [u'12', u'28', u'2009']\n",
        "completed for [u'1', u'27', u'2010']"
       ]
      },
      {
       "output_type": "stream",
       "stream": "stdout",
       "text": [
        "\n",
        "completed for [u'2', u'25', u'2010']"
       ]
      },
      {
       "output_type": "stream",
       "stream": "stdout",
       "text": [
        "\n",
        "completed for [u'3', u'25', u'2010']"
       ]
      },
      {
       "output_type": "stream",
       "stream": "stdout",
       "text": [
        "\n",
        "completed for [u'4', u'26', u'2010']"
       ]
      },
      {
       "output_type": "stream",
       "stream": "stdout",
       "text": [
        "\n",
        "completed for [u'5', u'25', u'2010']"
       ]
      },
      {
       "output_type": "stream",
       "stream": "stdout",
       "text": [
        "\n",
        "completed for [u'6', u'30', u'2010']"
       ]
      },
      {
       "output_type": "stream",
       "stream": "stdout",
       "text": [
        "\n",
        "completed for [u'7', u'25', u'2010']"
       ]
      },
      {
       "output_type": "stream",
       "stream": "stdout",
       "text": [
        "\n",
        "completed for [u'8', u'25', u'2010']"
       ]
      },
      {
       "output_type": "stream",
       "stream": "stdout",
       "text": [
        "\n",
        "completed for [u'9', u'25', u'2010']"
       ]
      },
      {
       "output_type": "stream",
       "stream": "stdout",
       "text": [
        "\n",
        "completed for [u'10', u'25', u'2010']"
       ]
      },
      {
       "output_type": "stream",
       "stream": "stdout",
       "text": [
        "\n",
        "completed for [u'11', u'25', u'2010']"
       ]
      },
      {
       "output_type": "stream",
       "stream": "stdout",
       "text": [
        "\n",
        "completed for [u'12', u'25', u'2010']"
       ]
      },
      {
       "output_type": "stream",
       "stream": "stdout",
       "text": [
        "\n",
        "completed for [u'1', u'25', u'2011']"
       ]
      },
      {
       "output_type": "stream",
       "stream": "stdout",
       "text": [
        "\n",
        "completed for [u'2', u'25', u'2011']"
       ]
      },
      {
       "output_type": "stream",
       "stream": "stdout",
       "text": [
        "\n",
        "completed for [u'3', u'25', u'2011']"
       ]
      },
      {
       "output_type": "stream",
       "stream": "stdout",
       "text": [
        "\n",
        "completed for [u'4', u'25', u'2011']"
       ]
      },
      {
       "output_type": "stream",
       "stream": "stdout",
       "text": [
        "\n",
        "completed for [u'5', u'25', u'2011']"
       ]
      },
      {
       "output_type": "stream",
       "stream": "stdout",
       "text": [
        "\n",
        "completed for [u'6', u'25', u'2011']"
       ]
      },
      {
       "output_type": "stream",
       "stream": "stdout",
       "text": [
        "\n",
        "completed for [u'7', u'25', u'2011']"
       ]
      },
      {
       "output_type": "stream",
       "stream": "stdout",
       "text": [
        "\n",
        "completed for [u'8', u'23', u'2011']"
       ]
      },
      {
       "output_type": "stream",
       "stream": "stdout",
       "text": [
        "\n",
        "completed for [u'9', u'22', u'2011']"
       ]
      },
      {
       "output_type": "stream",
       "stream": "stdout",
       "text": [
        "\n",
        "completed for [u'10', u'23', u'2011']"
       ]
      },
      {
       "output_type": "stream",
       "stream": "stdout",
       "text": [
        "\n",
        "completed for [u'11', u'21', u'2011']"
       ]
      },
      {
       "output_type": "stream",
       "stream": "stdout",
       "text": [
        "\n",
        "completed for [u'12', u'26', u'2011']"
       ]
      },
      {
       "output_type": "stream",
       "stream": "stdout",
       "text": [
        "\n",
        "completed for [u'1', u'26', u'2012']"
       ]
      },
      {
       "output_type": "stream",
       "stream": "stdout",
       "text": [
        "\n",
        "completed for [u'2', u'26', u'2012']"
       ]
      },
      {
       "output_type": "stream",
       "stream": "stdout",
       "text": [
        "\n",
        "completed for [u'3', u'26', u'2012']"
       ]
      },
      {
       "output_type": "stream",
       "stream": "stdout",
       "text": [
        "\n",
        "completed for [u'4', u'24', u'2012']"
       ]
      },
      {
       "output_type": "stream",
       "stream": "stdout",
       "text": [
        "\n",
        "completed for [u'5', u'23', u'2012']"
       ]
      },
      {
       "output_type": "stream",
       "stream": "stdout",
       "text": [
        "\n",
        "completed for [u'6', u'24', u'2012']"
       ]
      },
      {
       "output_type": "stream",
       "stream": "stdout",
       "text": [
        "\n",
        "completed for [u'7', u'24', u'2012']"
       ]
      },
      {
       "output_type": "stream",
       "stream": "stdout",
       "text": [
        "\n",
        "completed for [u'8', u'22', u'2012']"
       ]
      },
      {
       "output_type": "stream",
       "stream": "stdout",
       "text": [
        "\n",
        "completed for [u'9', u'23', u'2012']"
       ]
      },
      {
       "output_type": "stream",
       "stream": "stdout",
       "text": [
        "\n",
        "completed for [u'10', u'22', u'2012']"
       ]
      },
      {
       "output_type": "stream",
       "stream": "stdout",
       "text": [
        "\n",
        "completed for [u'11', u'20', u'2012']"
       ]
      },
      {
       "output_type": "stream",
       "stream": "stdout",
       "text": [
        "\n",
        "completed for [u'12', u'25', u'2012']"
       ]
      },
      {
       "output_type": "stream",
       "stream": "stdout",
       "text": [
        "\n",
        "completed for [u'1', u'27', u'2013']"
       ]
      },
      {
       "output_type": "stream",
       "stream": "stdout",
       "text": [
        "\n",
        "completed for [u'2', u'25', u'2013']"
       ]
      },
      {
       "output_type": "stream",
       "stream": "stdout",
       "text": [
        "\n",
        "completed for [u'3', u'27', u'2013']"
       ]
      },
      {
       "output_type": "stream",
       "stream": "stdout",
       "text": [
        "\n",
        "completed for [u'4', u'24', u'2013']"
       ]
      },
      {
       "output_type": "stream",
       "stream": "stdout",
       "text": [
        "\n",
        "completed for [u'5', u'23', u'2013']"
       ]
      },
      {
       "output_type": "stream",
       "stream": "stdout",
       "text": [
        "\n",
        "completed for [u'6', u'24', u'2013']"
       ]
      },
      {
       "output_type": "stream",
       "stream": "stdout",
       "text": [
        "\n",
        "completed for [u'7', u'24', u'2013']"
       ]
      },
      {
       "output_type": "stream",
       "stream": "stdout",
       "text": [
        "\n",
        "completed for [u'8', u'22', u'2013']"
       ]
      },
      {
       "output_type": "stream",
       "stream": "stdout",
       "text": [
        "\n",
        "completed for [u'9', u'23', u'2013']"
       ]
      },
      {
       "output_type": "stream",
       "stream": "stdout",
       "text": [
        "\n",
        "completed for [u'10', u'22', u'2013']"
       ]
      },
      {
       "output_type": "stream",
       "stream": "stdout",
       "text": [
        "\n",
        "completed for [u'11', u'20', u'2013']"
       ]
      },
      {
       "output_type": "stream",
       "stream": "stdout",
       "text": [
        "\n",
        "completed for [u'12', u'25', u'2013']"
       ]
      },
      {
       "output_type": "stream",
       "stream": "stdout",
       "text": [
        "\n",
        "completed for [u'1', u'27', u'2014']"
       ]
      },
      {
       "output_type": "stream",
       "stream": "stdout",
       "text": [
        "\n",
        "completed for [u'2', u'26', u'2014']"
       ]
      },
      {
       "output_type": "stream",
       "stream": "stdout",
       "text": [
        "\n",
        "completed for [u'3', u'26', u'2014']"
       ]
      },
      {
       "output_type": "stream",
       "stream": "stdout",
       "text": [
        "\n",
        "completed for [u'4', u'24', u'2014']"
       ]
      },
      {
       "output_type": "stream",
       "stream": "stdout",
       "text": [
        "\n",
        "completed for [u'5', u'26', u'2014']"
       ]
      },
      {
       "output_type": "stream",
       "stream": "stdout",
       "text": [
        "\n",
        "completed for [u'6', u'24', u'2014']"
       ]
      },
      {
       "output_type": "stream",
       "stream": "stdout",
       "text": [
        "\n",
        "completed for [u'7', u'24', u'2014']"
       ]
      },
      {
       "output_type": "stream",
       "stream": "stdout",
       "text": [
        "\n",
        "completed for [u'8', u'24', u'2014']"
       ]
      },
      {
       "output_type": "stream",
       "stream": "stdout",
       "text": [
        "\n",
        "completed for [u'9', u'22', u'2014']"
       ]
      },
      {
       "output_type": "stream",
       "stream": "stdout",
       "text": [
        "\n",
        "completed for [u'10', u'22', u'2014']"
       ]
      },
      {
       "output_type": "stream",
       "stream": "stdout",
       "text": [
        "\n",
        "completed for [u'11', u'20', u'2014']"
       ]
      },
      {
       "output_type": "stream",
       "stream": "stdout",
       "text": [
        "\n",
        "completed for [u'12', u'25', u'2014']"
       ]
      },
      {
       "output_type": "stream",
       "stream": "stdout",
       "text": [
        "\n",
        "completed for [u'1', u'27', u'2015']"
       ]
      },
      {
       "output_type": "stream",
       "stream": "stdout",
       "text": [
        "\n",
        "completed for [u'2', u'25', u'2015']"
       ]
      },
      {
       "output_type": "stream",
       "stream": "stdout",
       "text": [
        "\n",
        "completed for [u'3', u'26', u'2015']"
       ]
      },
      {
       "output_type": "stream",
       "stream": "stdout",
       "text": [
        "\n",
        "completed for [u'4', u'26', u'2015']"
       ]
      },
      {
       "output_type": "stream",
       "stream": "stdout",
       "text": [
        "\n",
        "completed for [u'5', u'26', u'2015']"
       ]
      },
      {
       "output_type": "stream",
       "stream": "stdout",
       "text": [
        "\n",
        "completed for [u'6', u'24', u'2015']"
       ]
      },
      {
       "output_type": "stream",
       "stream": "stdout",
       "text": [
        "\n",
        "completed for [u'7', u'26', u'2015']"
       ]
      },
      {
       "output_type": "stream",
       "stream": "stdout",
       "text": [
        "\n",
        "completed for [u'8', u'24', u'2015']"
       ]
      },
      {
       "output_type": "stream",
       "stream": "stdout",
       "text": [
        "\n",
        "completed for [u'9', u'21', u'2015']"
       ]
      },
      {
       "output_type": "stream",
       "stream": "stdout",
       "text": [
        "\n",
        "completed for [u'10', u'21', u'2015']"
       ]
      },
      {
       "output_type": "stream",
       "stream": "stdout",
       "text": [
        "\n",
        "completed for [u'11', u'19', u'2015']"
       ]
      },
      {
       "output_type": "stream",
       "stream": "stdout",
       "text": [
        "\n",
        "completed for [u'12', u'22', u'2015']"
       ]
      },
      {
       "output_type": "stream",
       "stream": "stdout",
       "text": [
        "\n",
        "completed for [u'1', u'26', u'2016']"
       ]
      },
      {
       "output_type": "stream",
       "stream": "stdout",
       "text": [
        "\n"
       ]
      }
     ],
     "prompt_number": 433
    },
    {
     "cell_type": "code",
     "collapsed": false,
     "input": [
      "slopes = {}\n",
      "intercepts = {}\n",
      "for year in range(2010,2016):\n",
      "    hdd_df = df[df['cdd65']>0]\n",
      "    print 'Mean kWh in summer of '+str(year)+': ' + str(hdd_df[hdd_df.index.year==year]['kwh'].median())\n",
      "    #regr = linear_model.LinearRegression()\n",
      "    x_val = np.array(hdd_df[hdd_df.index.year==year]['cdd65']).reshape(-1,1)\n",
      "    #regr.fit(x_val,hdd_df[hdd_df.index.year==year]['kwh'])\n",
      "    X = hdd_df[hdd_df.index.year==year]['cdd65']\n",
      "    X = sm.add_constant(X)\n",
      "    model = sm.OLS(hdd_df[hdd_df.index.year==year]['kwh'],X)\n",
      "    results = model.fit()\n",
      "    plt.figure(1)\n",
      "    plt.plot(hdd_df[hdd_df.index.year==year]['cdd65'],hdd_df[hdd_df.index.year==year]['kwh'],'.',label=str(year))\n",
      "    plt.figure(2)\n",
      "    plt.plot(hdd_df[hdd_df.index.year==year]['cdd65'],results.params['cdd65']*hdd_df[hdd_df.index.year==year]['cdd65']+\\\n",
      "             results.params['const'],label=str(year))\n",
      "    plt.legend(bbox_to_anchor=(1.1, 1.05))\n",
      "    plt.xlabel('CDD')\n",
      "    plt.ylabel('kWh')\n",
      "    plt.figure(3)\n",
      "    slopes[year] =results.params['cdd65']\n",
      "    intercepts[year] = results.params['const']\n",
      "    plt.plot(hdd_df[hdd_df.index.year==year]['cdd65'],results.params['cdd65']*hdd_df[hdd_df.index.year==year]['cdd65']\\\n",
      "             ,label=str(year))\n",
      "    plt.legend(bbox_to_anchor=(1.1, 1.05))\n",
      "    plt.xlabel('CDD')\n",
      "    plt.ylabel('kWh')\n"
     ],
     "language": "python",
     "metadata": {},
     "outputs": [
      {
       "output_type": "stream",
       "stream": "stdout",
       "text": [
        "Mean kWh in summer of 2010: 30.4\n",
        "Mean kWh in summer of 2011: 29.3"
       ]
      },
      {
       "output_type": "stream",
       "stream": "stdout",
       "text": [
        "\n",
        "Mean kWh in summer of 2012: 23.3\n",
        "Mean kWh in summer of 2013: 33.6\n",
        "Mean kWh in summer of 2014: 34.17"
       ]
      },
      {
       "output_type": "stream",
       "stream": "stdout",
       "text": [
        "\n",
        "Mean kWh in summer of 2015: 36.17\n"
       ]
      },
      {
       "metadata": {},
       "output_type": "display_data",
       "png": "[encoded data removed]",
       "text": [
        "<matplotlib.figure.Figure at 0x7f00d321d3d0>"
       ]
      },
      {
       "metadata": {},
       "output_type": "display_data",
       "png": "[encoded data removed]",
       "text": [
        "<matplotlib.figure.Figure at 0x7f00b7135a10>"
       ]
      },
      {
       "metadata": {},
       "output_type": "display_data",
       "png": "[encoded data removed]",
       "text": [
        "<matplotlib.figure.Figure at 0x7f00a801c4d0>"
       ]
      }
     ],
     "prompt_number": 409
    },
    {
     "cell_type": "code",
     "collapsed": false,
     "input": [
      "hdd_df = df[df['cdd65']>0]\n",
      "year = 2013\n",
      "comparison = 2012\n",
      "print 'kWh used for AC ' + str(np.sum(hdd_df[hdd_df.index.year == year]['cdd65']*slopes[year]))\n",
      "print 'kWh that would have been usd for AC with 2012 insulation '+str(np.sum(hdd_df[hdd_df.index.year == year]['cdd65']*slopes[comparison]))\n",
      "print 'kWh saved: '+str(np.sum(hdd_df[hdd_df.index.year == year]['cdd65']*\\\n",
      "                               slopes[comparison])-np.sum(hdd_df[hdd_df.index.year == year]['cdd65']*slopes[year]))"
     ],
     "language": "python",
     "metadata": {},
     "outputs": [
      {
       "output_type": "stream",
       "stream": "stdout",
       "text": [
        "kWh used for AC 34.5592013724\n",
        "kWh that would have been usd for AC with 2012 insulation 58.2626517727\n",
        "kWh saved: 23.7034504003\n"
       ]
      }
     ],
     "prompt_number": 405
    },
    {
     "cell_type": "code",
     "collapsed": false,
     "input": [
      "hdd_df = df[df['cdd65']>0]\n",
      "year = 2014\n",
      "comparison = 2012\n",
      "print 'kWh used for AC ' + str(np.sum(hdd_df[hdd_df.index.year == year]['cdd65']*slopes[year]))\n",
      "print 'kWh that would have been usd for AC with 2012 insulation '+str(np.sum(hdd_df[hdd_df.index.year == year]['cdd65']*slopes[comparison]))\n",
      "print 'kWh saved: '+str(np.sum(hdd_df[hdd_df.index.year == year]['cdd65']*\\\n",
      "                               slopes[comparison])-np.sum(hdd_df[hdd_df.index.year == year]['cdd65']*slopes[year]))"
     ],
     "language": "python",
     "metadata": {},
     "outputs": [
      {
       "output_type": "stream",
       "stream": "stdout",
       "text": [
        "kWh used for AC 20.4227421635\n",
        "kWh that would have been usd for AC with 2012 insulation 48.6210781933\n",
        "kWh saved: 28.1983360298\n"
       ]
      }
     ],
     "prompt_number": 406
    }
   ],
   "metadata": {}
  }
 ]
}